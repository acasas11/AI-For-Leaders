{
 "cells": [
  {
   "cell_type": "markdown",
   "id": "5190b54c-d49c-4d6f-80cc-22555336a9cd",
   "metadata": {},
   "source": [
    "# Week 2 - Preprocessing, part 2\n",
    "\n",
    "# 1. Lesson: None"
   ]
  },
  {
   "cell_type": "markdown",
   "id": "47c4e5ff-b05f-4ef2-96f1-49dcb5beb158",
   "metadata": {},
   "source": [
    "# 2. Weekly graph question"
   ]
  },
  {
   "cell_type": "markdown",
   "id": "aad37e29-6e84-41fa-886d-abc1312213ab",
   "metadata": {},
   "source": [
    "The Storytelling With Data book mentions planning on a \"Who, What, and How\" for your data story.  Write down a possible Who, What, and How for your data, using the ideas in the book."
   ]
  },
  {
   "cell_type": "markdown",
   "id": "2d24d615",
   "metadata": {},
   "source": [
    "Who:\n",
    "Researchers working in the field of (breast) cancer studies, as the dataset provides key information related to patient demographics, tumor characteristics, and treatment outcomes.\n",
    "Medical professionals who might want to understand trends in surgery types, patient statuses, and tumor stages to inform clinical practices.\n",
    "Data scientists conducting hypothesis testing and statistical analysis related to cancer treatment, patient survival, or the expression levels of proteins.\n",
    "Lastly, students or beginners in data analysis who are learning to work with real-world medical datasets.\n",
    "\n",
    "What:\n",
    "The purpose of this dataset is to provide data for hypothesis testing and statistical analysis to study the relationships between different variables such as protein expressions, tumor stage, and patient survival.\n",
    "Support research in understanding the factors that affect patient survival, tumor types, and treatment outcomes after surgery.\n",
    "Analyze trends and correlations between surgery types, cancer stages, and patient survival outcomes as well as the possible influence of proteins and cancer receptors.\n",
    "Help draw conclusions regarding the effectiveness of different treatments based on the status of the patient after surgery.\n",
    "\n",
    "How:\n",
    "Statistical Analysis: The dataset can be used to run statistical tests to explore associations between different factors, like age, tumor stage, protein expression, and patient outcomes.\n",
    "Hypothesis Testing: The dataset can be used to test different hypotheses.\n",
    "Data Visualization: Data visualization tools like bar charts, histograms, or survival curves could help visualize trends in the data.\n",
    "Machine Learning/Modeling: This dataset can be used for predictive modeling such as predicting patient survival status based on the available variables."
   ]
  },
  {
   "cell_type": "markdown",
   "id": "898eb327-aefd-4ac0-b95a-92b616a2181b",
   "metadata": {},
   "source": [
    "# 3. Homework - work with your own data"
   ]
  },
  {
   "cell_type": "code",
   "execution_count": 1,
   "id": "fe925521-979f-4983-8d85-8db8d1316e99",
   "metadata": {},
   "outputs": [],
   "source": [
    "import pandas as pd\n",
    "import numpy as np\n",
    "from datetime import datetime, timedelta"
   ]
  },
  {
   "cell_type": "markdown",
   "id": "14836788-b235-4cd4-b94d-5f749c6141a8",
   "metadata": {},
   "source": [
    "This week, you will do the same types of exercises as last week, but you should use your chosen datasets that someone in your class found last semester. (They likely will not be the particular datasets that you found yourself.)\n",
    "\n",
    "### Here are some types of analysis you can do  Use Google, documentation, and ChatGPT to help you:\n",
    "\n",
    "- Summarize the datasets using info() and describe()\n",
    "\n",
    "- Are there any duplicate rows?\n",
    "\n",
    "- Are there any duplicate values in a given column (when this would be inappropriate?)\n",
    "\n",
    "- What are the mean, median, and mode of each column?\n",
    "\n",
    "- Are there any missing or null values?\n",
    "\n",
    "    - Do you want to fill in the missing value with a mean value?  A value of your choice?  Remove that row?\n",
    "\n",
    "- Identify any other inconsistent data (e.g. someone seems to be taking an action before they are born.)\n",
    "\n",
    "- Encode any categorical variables (e.g. with one-hot encoding.)\n",
    "\n",
    "### Conclusions:\n",
    "\n",
    "- Are the data usable?  If not, find some new data!\n",
    "\n",
    "- Do you need to modify or correct the data in some way?\n",
    "\n",
    "- Is there any class imbalance?  (Categories that have many more items than other categories)."
   ]
  },
  {
   "cell_type": "code",
   "execution_count": 3,
   "id": "291b86be",
   "metadata": {},
   "outputs": [
    {
     "name": "stdout",
     "output_type": "stream",
     "text": [
      "     Patient_ID   Age  Gender  Protein1  Protein2  Protein3  Protein4  \\\n",
      "0  TCGA-D8-A1XD  36.0  FEMALE  0.080353   0.42638   0.54715  0.273680   \n",
      "1  TCGA-EW-A1OX  43.0  FEMALE -0.420320   0.57807   0.61447 -0.031505   \n",
      "2  TCGA-A8-A079  69.0  FEMALE  0.213980   1.31140  -0.32747 -0.234260   \n",
      "3  TCGA-D8-A1XR  56.0  FEMALE  0.345090  -0.21147  -0.19304  0.124270   \n",
      "4  TCGA-BH-A0BF  56.0  FEMALE  0.221550   1.90680   0.52045 -0.311990   \n",
      "\n",
      "  Tumour_Stage                      Histology ER status PR status HER2 status  \\\n",
      "0          III  Infiltrating Ductal Carcinoma  Positive  Positive    Negative   \n",
      "1           II             Mucinous Carcinoma  Positive  Positive    Negative   \n",
      "2          III  Infiltrating Ductal Carcinoma  Positive  Positive    Negative   \n",
      "3           II  Infiltrating Ductal Carcinoma  Positive  Positive    Negative   \n",
      "4           II  Infiltrating Ductal Carcinoma  Positive  Positive    Negative   \n",
      "\n",
      "                  Surgery_type Date_of_Surgery Date_of_Last_Visit  \\\n",
      "0  Modified Radical Mastectomy       15-Jan-17          19-Jun-17   \n",
      "1                   Lumpectomy       26-Apr-17          09-Nov-18   \n",
      "2                        Other       08-Sep-17          09-Jun-18   \n",
      "3  Modified Radical Mastectomy       25-Jan-17          12-Jul-17   \n",
      "4                        Other       06-May-17          27-Jun-19   \n",
      "\n",
      "  Patient_Status  \n",
      "0          Alive  \n",
      "1           Dead  \n",
      "2          Alive  \n",
      "3          Alive  \n",
      "4           Dead  \n"
     ]
    }
   ],
   "source": [
    "df = pd.read_csv('BRCA.csv')\n",
    "\n",
    "print(df.head())\n"
   ]
  },
  {
   "cell_type": "code",
   "execution_count": 8,
   "id": "29f666d5",
   "metadata": {},
   "outputs": [
    {
     "name": "stdout",
     "output_type": "stream",
     "text": [
      "<class 'pandas.core.frame.DataFrame'>\n",
      "RangeIndex: 341 entries, 0 to 340\n",
      "Data columns (total 16 columns):\n",
      " #   Column              Non-Null Count  Dtype  \n",
      "---  ------              --------------  -----  \n",
      " 0   Patient_ID          334 non-null    object \n",
      " 1   Age                 334 non-null    float64\n",
      " 2   Gender              334 non-null    object \n",
      " 3   Protein1            334 non-null    float64\n",
      " 4   Protein2            334 non-null    float64\n",
      " 5   Protein3            334 non-null    float64\n",
      " 6   Protein4            334 non-null    float64\n",
      " 7   Tumour_Stage        334 non-null    object \n",
      " 8   Histology           334 non-null    object \n",
      " 9   ER status           334 non-null    object \n",
      " 10  PR status           334 non-null    object \n",
      " 11  HER2 status         334 non-null    object \n",
      " 12  Surgery_type        334 non-null    object \n",
      " 13  Date_of_Surgery     334 non-null    object \n",
      " 14  Date_of_Last_Visit  317 non-null    object \n",
      " 15  Patient_Status      321 non-null    object \n",
      "dtypes: float64(5), object(11)\n",
      "memory usage: 42.8+ KB\n"
     ]
    },
    {
     "data": {
      "text/html": [
       "<div>\n",
       "<style scoped>\n",
       "    .dataframe tbody tr th:only-of-type {\n",
       "        vertical-align: middle;\n",
       "    }\n",
       "\n",
       "    .dataframe tbody tr th {\n",
       "        vertical-align: top;\n",
       "    }\n",
       "\n",
       "    .dataframe thead th {\n",
       "        text-align: right;\n",
       "    }\n",
       "</style>\n",
       "<table border=\"1\" class=\"dataframe\">\n",
       "  <thead>\n",
       "    <tr style=\"text-align: right;\">\n",
       "      <th></th>\n",
       "      <th>Age</th>\n",
       "      <th>Protein1</th>\n",
       "      <th>Protein2</th>\n",
       "      <th>Protein3</th>\n",
       "      <th>Protein4</th>\n",
       "    </tr>\n",
       "  </thead>\n",
       "  <tbody>\n",
       "    <tr>\n",
       "      <th>count</th>\n",
       "      <td>334.000000</td>\n",
       "      <td>334.000000</td>\n",
       "      <td>334.000000</td>\n",
       "      <td>334.000000</td>\n",
       "      <td>334.000000</td>\n",
       "    </tr>\n",
       "    <tr>\n",
       "      <th>mean</th>\n",
       "      <td>58.886228</td>\n",
       "      <td>-0.029991</td>\n",
       "      <td>0.946896</td>\n",
       "      <td>-0.090204</td>\n",
       "      <td>0.009819</td>\n",
       "    </tr>\n",
       "    <tr>\n",
       "      <th>std</th>\n",
       "      <td>12.961212</td>\n",
       "      <td>0.563588</td>\n",
       "      <td>0.911637</td>\n",
       "      <td>0.585175</td>\n",
       "      <td>0.629055</td>\n",
       "    </tr>\n",
       "    <tr>\n",
       "      <th>min</th>\n",
       "      <td>29.000000</td>\n",
       "      <td>-2.340900</td>\n",
       "      <td>-0.978730</td>\n",
       "      <td>-1.627400</td>\n",
       "      <td>-2.025500</td>\n",
       "    </tr>\n",
       "    <tr>\n",
       "      <th>25%</th>\n",
       "      <td>49.000000</td>\n",
       "      <td>-0.358888</td>\n",
       "      <td>0.362173</td>\n",
       "      <td>-0.513748</td>\n",
       "      <td>-0.377090</td>\n",
       "    </tr>\n",
       "    <tr>\n",
       "      <th>50%</th>\n",
       "      <td>58.000000</td>\n",
       "      <td>0.006129</td>\n",
       "      <td>0.992805</td>\n",
       "      <td>-0.173180</td>\n",
       "      <td>0.041768</td>\n",
       "    </tr>\n",
       "    <tr>\n",
       "      <th>75%</th>\n",
       "      <td>68.000000</td>\n",
       "      <td>0.343598</td>\n",
       "      <td>1.627900</td>\n",
       "      <td>0.278353</td>\n",
       "      <td>0.425630</td>\n",
       "    </tr>\n",
       "    <tr>\n",
       "      <th>max</th>\n",
       "      <td>90.000000</td>\n",
       "      <td>1.593600</td>\n",
       "      <td>3.402200</td>\n",
       "      <td>2.193400</td>\n",
       "      <td>1.629900</td>\n",
       "    </tr>\n",
       "  </tbody>\n",
       "</table>\n",
       "</div>"
      ],
      "text/plain": [
       "              Age    Protein1    Protein2    Protein3    Protein4\n",
       "count  334.000000  334.000000  334.000000  334.000000  334.000000\n",
       "mean    58.886228   -0.029991    0.946896   -0.090204    0.009819\n",
       "std     12.961212    0.563588    0.911637    0.585175    0.629055\n",
       "min     29.000000   -2.340900   -0.978730   -1.627400   -2.025500\n",
       "25%     49.000000   -0.358888    0.362173   -0.513748   -0.377090\n",
       "50%     58.000000    0.006129    0.992805   -0.173180    0.041768\n",
       "75%     68.000000    0.343598    1.627900    0.278353    0.425630\n",
       "max     90.000000    1.593600    3.402200    2.193400    1.629900"
      ]
     },
     "execution_count": 8,
     "metadata": {},
     "output_type": "execute_result"
    }
   ],
   "source": [
    "#Summarize the datasets using info() and describe()\n",
    "\n",
    "df = pd.read_csv('BRCA.csv')\n",
    "\n",
    "df_cleaned = df.dropna(how='all')\n",
    "\n",
    "df.info()\n",
    "\n",
    "df.describe()\n"
   ]
  },
  {
   "cell_type": "code",
   "execution_count": 9,
   "id": "e516c4f0",
   "metadata": {},
   "outputs": [
    {
     "name": "stdout",
     "output_type": "stream",
     "text": [
      "    Patient_ID  Age Gender  Protein1  Protein2  Protein3  Protein4  \\\n",
      "335        NaN  NaN    NaN       NaN       NaN       NaN       NaN   \n",
      "336        NaN  NaN    NaN       NaN       NaN       NaN       NaN   \n",
      "337        NaN  NaN    NaN       NaN       NaN       NaN       NaN   \n",
      "338        NaN  NaN    NaN       NaN       NaN       NaN       NaN   \n",
      "339        NaN  NaN    NaN       NaN       NaN       NaN       NaN   \n",
      "340        NaN  NaN    NaN       NaN       NaN       NaN       NaN   \n",
      "\n",
      "    Tumour_Stage Histology ER status PR status HER2 status Surgery_type  \\\n",
      "335          NaN       NaN       NaN       NaN         NaN          NaN   \n",
      "336          NaN       NaN       NaN       NaN         NaN          NaN   \n",
      "337          NaN       NaN       NaN       NaN         NaN          NaN   \n",
      "338          NaN       NaN       NaN       NaN         NaN          NaN   \n",
      "339          NaN       NaN       NaN       NaN         NaN          NaN   \n",
      "340          NaN       NaN       NaN       NaN         NaN          NaN   \n",
      "\n",
      "    Date_of_Surgery Date_of_Last_Visit Patient_Status  \n",
      "335             NaN                NaN            NaN  \n",
      "336             NaN                NaN            NaN  \n",
      "337             NaN                NaN            NaN  \n",
      "338             NaN                NaN            NaN  \n",
      "339             NaN                NaN            NaN  \n",
      "340             NaN                NaN            NaN  \n"
     ]
    }
   ],
   "source": [
    "#Are there any duplicate rows?\n",
    "\n",
    "duplicate_rows = df[df.duplicated()]\n",
    "print(duplicate_rows)"
   ]
  },
  {
   "cell_type": "markdown",
   "id": "b3c0dc58",
   "metadata": {},
   "source": [
    "Are there any duplicate values in a given column (when this would be inappropriate?)\n",
    "\n",
    "Yes, there are a series of rows where the values are entirely missing (NaN values). These rows are essentially \"empty\" entries, and they are being counted as duplicate entries.\n",
    "This would be inappropriate when you know data is supposed to be unique. For example, in this dataset, the most important column to check for duplicates is Patient_ID, as it should be unique for each patient. If there are any duplicate values in Patient_ID, that would indicate an issue with the dataset."
   ]
  },
  {
   "cell_type": "code",
   "execution_count": 12,
   "id": "ff1c775a",
   "metadata": {},
   "outputs": [
    {
     "name": "stdout",
     "output_type": "stream",
     "text": [
      "Mean values:\n",
      " Age         58.886228\n",
      "Protein1    -0.029991\n",
      "Protein2     0.946896\n",
      "Protein3    -0.090204\n",
      "Protein4     0.009819\n",
      "dtype: float64\n",
      "\n",
      "Median values:\n",
      " Age         58.000000\n",
      "Protein1     0.006129\n",
      "Protein2     0.992805\n",
      "Protein3    -0.173180\n",
      "Protein4     0.041768\n",
      "dtype: float64\n",
      "\n",
      "Mode values:\n",
      " Age         59.00000\n",
      "Protein1     0.00000\n",
      "Protein2    -0.97873\n",
      "Protein3    -1.62740\n",
      "Protein4    -0.35070\n",
      "Name: 0, dtype: float64\n"
     ]
    }
   ],
   "source": [
    "#What are the mean, median, and mode of each column?\n",
    "\n",
    "numeric_columns = df.select_dtypes(include=[np.number])\n",
    "\n",
    "mean_values = numeric_columns.mean()\n",
    "\n",
    "median_values = numeric_columns.median()\n",
    "\n",
    "mode_values = numeric_columns.mode().iloc[0]\n",
    "\n",
    "print(\"Mean values:\\n\", mean_values)\n",
    "print(\"\\nMedian values:\\n\", median_values)\n",
    "print(\"\\nMode values:\\n\", mode_values)\n"
   ]
  },
  {
   "cell_type": "code",
   "execution_count": 13,
   "id": "5ef2ecd0",
   "metadata": {},
   "outputs": [
    {
     "name": "stdout",
     "output_type": "stream",
     "text": [
      "Patient_ID             7\n",
      "Age                    7\n",
      "Gender                 7\n",
      "Protein1               7\n",
      "Protein2               7\n",
      "Protein3               7\n",
      "Protein4               7\n",
      "Tumour_Stage           7\n",
      "Histology              7\n",
      "ER status              7\n",
      "PR status              7\n",
      "HER2 status            7\n",
      "Surgery_type           7\n",
      "Date_of_Surgery        7\n",
      "Date_of_Last_Visit    24\n",
      "Patient_Status        20\n",
      "dtype: int64\n"
     ]
    }
   ],
   "source": [
    "#Are there any missing or null values?\n",
    "\n",
    "missing_values = df.isnull().sum()\n",
    "print(missing_values)"
   ]
  },
  {
   "cell_type": "markdown",
   "id": "933cca8e",
   "metadata": {},
   "source": [
    "Do you want to fill in the missing value with a mean value?  A value of your choice?  Remove that row?\n",
    "\n",
    "Ideally, you don't want to remove the row because it reduces the dataset size, potentially removing important data, leading to biased results if the missing data is not randomly distributed.\n",
    "For most columns, filling with the mean (numeric columns) or a placeholder like \"Unknown\" (categorical columns) is a reasonable choice when the missing values are not a lot, such as 7 out of 341 rows, which helps preserve the dataset size."
   ]
  },
  {
   "cell_type": "code",
   "execution_count": 14,
   "id": "2513c916",
   "metadata": {},
   "outputs": [
    {
     "name": "stdout",
     "output_type": "stream",
     "text": [
      "       Patient_ID   Age  Gender  Protein1  Protein2  Protein3  Protein4  \\\n",
      "1    TCGA-EW-A1OX  43.0  FEMALE -0.420320   0.57807  0.614470 -0.031505   \n",
      "3    TCGA-D8-A1XR  56.0  FEMALE  0.345090  -0.21147 -0.193040  0.124270   \n",
      "5    TCGA-AO-A1KQ  84.0    MALE -0.081872   1.72410 -0.057335  0.043025   \n",
      "8    TCGA-EW-A1P5  77.0  FEMALE -0.151750  -0.66332  1.189400  0.217180   \n",
      "10   TCGA-S3-A6ZG  71.0  FEMALE -0.223050   0.50594 -0.349430 -0.835300   \n",
      "..            ...   ...     ...       ...       ...       ...       ...   \n",
      "318  TCGA-A2-A0SU  66.0  FEMALE -0.370430   1.91850 -0.796080 -0.062903   \n",
      "323  TCGA-AO-A1KP  77.0  FEMALE  0.339120   1.31930  0.587400  0.351920   \n",
      "325  TCGA-BH-A0BV  78.0  FEMALE -0.917230  -0.64693  0.552590  0.458740   \n",
      "327  TCGA-E2-A1B5  46.0  FEMALE -0.055036  -0.50643  0.887780 -0.089424   \n",
      "332  TCGA-A2-A0EU  79.0  FEMALE  0.479400   2.05590 -0.531360 -0.188480   \n",
      "\n",
      "    Tumour_Stage                       Histology ER status PR status  \\\n",
      "1             II              Mucinous Carcinoma  Positive  Positive   \n",
      "3             II   Infiltrating Ductal Carcinoma  Positive  Positive   \n",
      "5            III   Infiltrating Ductal Carcinoma  Positive  Positive   \n",
      "8             II   Infiltrating Ductal Carcinoma  Positive  Positive   \n",
      "10            II   Infiltrating Ductal Carcinoma  Positive  Positive   \n",
      "..           ...                             ...       ...       ...   \n",
      "318           II  Infiltrating Lobular Carcinoma  Positive  Positive   \n",
      "323           II   Infiltrating Ductal Carcinoma  Positive  Positive   \n",
      "325           II  Infiltrating Lobular Carcinoma  Positive  Positive   \n",
      "327           II   Infiltrating Ductal Carcinoma  Positive  Positive   \n",
      "332            I   Infiltrating Ductal Carcinoma  Positive  Positive   \n",
      "\n",
      "    HER2 status                 Surgery_type Date_of_Surgery  \\\n",
      "1      Negative                   Lumpectomy       26-Apr-17   \n",
      "3      Negative  Modified Radical Mastectomy       25-Jan-17   \n",
      "5      Negative  Modified Radical Mastectomy       18-Sep-17   \n",
      "8      Negative  Modified Radical Mastectomy       28-Sep-17   \n",
      "10     Negative                   Lumpectomy       26-May-17   \n",
      "..          ...                          ...             ...   \n",
      "318    Negative            Simple Mastectomy       22-Sep-19   \n",
      "323    Negative            Simple Mastectomy       22-Oct-19   \n",
      "325    Negative  Modified Radical Mastectomy       22-Oct-19   \n",
      "327    Negative                   Lumpectomy       22-Oct-19   \n",
      "332    Positive                   Lumpectomy       21-Nov-19   \n",
      "\n",
      "    Date_of_Last_Visit Patient_Status  \n",
      "1            09-Nov-18           Dead  \n",
      "3            12-Jul-17          Alive  \n",
      "5            15-Nov-21          Alive  \n",
      "8            28-Sep-18          Alive  \n",
      "10           19-Dec-17          Alive  \n",
      "..                 ...            ...  \n",
      "318          08-Sep-20          Alive  \n",
      "323          09-Feb-21          Alive  \n",
      "325          24-Mar-21          Alive  \n",
      "327          09-Feb-21           Dead  \n",
      "332          19-Feb-21           Dead  \n",
      "\n",
      "[140 rows x 16 columns]\n"
     ]
    }
   ],
   "source": [
    "#Identify any other inconsistent data (e.g. someone seems to be taking an action before they are born.)\n",
    "\n",
    "invalid_dates = df[df['Date_of_Surgery'] > datetime.now().strftime('%d-%b-%Y')]\n",
    "print(invalid_dates)"
   ]
  },
  {
   "cell_type": "code",
   "execution_count": 15,
   "id": "85c75b6c",
   "metadata": {},
   "outputs": [],
   "source": [
    "#Encode any categorical variables (e.g. with one-hot encoding.)\n",
    "\n",
    "df_encoded = pd.get_dummies(df, columns=['Gender', 'Surgery_type', 'ER status', 'Histology'])\n"
   ]
  },
  {
   "cell_type": "markdown",
   "id": "da04a7ea",
   "metadata": {},
   "source": [
    "Conclusions:\n",
    "\n",
    "-Are the data usable? If not, find some new data!\n",
    "The dataset appears to be mostly usable, with some issues that need attention:\n",
    "There are a few missing values across various columns, but these are not overwhelmingly large in number with the exception of Date_of_Last_Visit and Patient_Status which have some significant missing data.\n",
    "Some rows contain entirely missing values for all columns, likely indicating incomplete or erroneous entries.\n",
    "There are potential inconsistencies in columns like Date_of_Surgery (future dates), Age (unrealistically high or negative values), and Gender (potential invalid categories).\n",
    "\n",
    "-Do you need to modify or correct the data in some way?\n",
    "Yes, several modifications should be made:\n",
    "Handling missing data: Some missing data needs to be addressed. This can be through filling the missing values with reasonable estimates such as the mean (for numeric data) or the most frequent category (for categorical data), or through dropping rows with critical missing values.\n",
    "Correcting inconsistent data:\n",
    "We also need to correct any invalid or future dates in Date_of_Surgery and Date_of_Last_Visit. Correct unrealistic ages or any cases where a patient is recorded as being younger than their age at the time of surgery. Also remove duplicate rows because several rows in the dataset are entirely NaN values (likely duplicates or invalid entries) that should be removed to avoid impacting the analysis.\n",
    "\n",
    "-Is there any class imbalance? (Categories that have many more items than other categories).\n",
    "We can check for class imbalance specifically in some important columns:"
   ]
  },
  {
   "cell_type": "code",
   "execution_count": 16,
   "id": "707ae864",
   "metadata": {},
   "outputs": [
    {
     "name": "stdout",
     "output_type": "stream",
     "text": [
      "Tumour_Stage\n",
      "II     189\n",
      "III     81\n",
      "I       64\n",
      "Name: count, dtype: int64\n",
      "ER status\n",
      "Positive    334\n",
      "Name: count, dtype: int64\n",
      "PR status\n",
      "Positive    334\n",
      "Name: count, dtype: int64\n",
      "Patient_Status\n",
      "Alive    255\n",
      "Dead      66\n",
      "Name: count, dtype: int64\n"
     ]
    }
   ],
   "source": [
    "categorical_columns = ['Tumour_Stage', 'ER status', 'PR status', 'Patient_Status']\n",
    "for col in categorical_columns:\n",
    "    print(df[col].value_counts())"
   ]
  },
  {
   "cell_type": "code",
   "execution_count": 17,
   "id": "bd43f34c",
   "metadata": {},
   "outputs": [
    {
     "name": "stdout",
     "output_type": "stream",
     "text": [
      "Value counts for Patient_ID:\n",
      "Patient_ID\n",
      "TCGA-B6-A40B    1\n",
      "TCGA-D8-A1XD    1\n",
      "TCGA-EW-A1OX    1\n",
      "TCGA-A8-A079    1\n",
      "TCGA-D8-A1XR    1\n",
      "               ..\n",
      "TCGA-BH-A0DE    1\n",
      "TCGA-EW-A1PA    1\n",
      "TCGA-A2-A0D4    1\n",
      "TCGA-AO-A03V    1\n",
      "TCGA-C8-A8HQ    1\n",
      "Name: count, Length: 334, dtype: int64\n",
      "\n",
      "Value counts for Gender:\n",
      "Gender\n",
      "FEMALE    330\n",
      "MALE        4\n",
      "Name: count, dtype: int64\n",
      "\n",
      "Value counts for Tumour_Stage:\n",
      "Tumour_Stage\n",
      "II     189\n",
      "III     81\n",
      "I       64\n",
      "Name: count, dtype: int64\n",
      "\n",
      "Value counts for Histology:\n",
      "Histology\n",
      "Infiltrating Ductal Carcinoma     233\n",
      "Infiltrating Lobular Carcinoma     89\n",
      "Mucinous Carcinoma                 12\n",
      "Name: count, dtype: int64\n",
      "\n",
      "Value counts for ER status:\n",
      "ER status\n",
      "Positive    334\n",
      "Name: count, dtype: int64\n",
      "\n",
      "Value counts for PR status:\n",
      "PR status\n",
      "Positive    334\n",
      "Name: count, dtype: int64\n",
      "\n",
      "Value counts for HER2 status:\n",
      "HER2 status\n",
      "Negative    305\n",
      "Positive     29\n",
      "Name: count, dtype: int64\n",
      "\n",
      "Value counts for Surgery_type:\n",
      "Surgery_type\n",
      "Other                          105\n",
      "Modified Radical Mastectomy     96\n",
      "Simple Mastectomy               67\n",
      "Lumpectomy                      66\n",
      "Name: count, dtype: int64\n",
      "\n",
      "Value counts for Date_of_Surgery:\n",
      "Date_of_Surgery\n",
      "16-Nov-18    5\n",
      "26-Nov-18    5\n",
      "06-Dec-18    5\n",
      "06-Nov-18    5\n",
      "27-Oct-18    4\n",
      "            ..\n",
      "12-Mar-19    1\n",
      "21-Apr-19    1\n",
      "11-Apr-19    1\n",
      "01-May-19    1\n",
      "21-Nov-19    1\n",
      "Name: count, Length: 181, dtype: int64\n",
      "\n",
      "Value counts for Date_of_Last_Visit:\n",
      "Date_of_Last_Visit\n",
      "03-Feb-21    3\n",
      "20-Feb-20    3\n",
      "09-Aug-19    3\n",
      "15-Jan-20    3\n",
      "09-Feb-20    3\n",
      "            ..\n",
      "11-Dec-18    1\n",
      "25-Jul-18    1\n",
      "08-Jun-18    1\n",
      "22-Jun-19    1\n",
      "06-Dec-20    1\n",
      "Name: count, Length: 285, dtype: int64\n",
      "\n",
      "Value counts for Patient_Status:\n",
      "Patient_Status\n",
      "Alive    255\n",
      "Dead      66\n",
      "Name: count, dtype: int64\n",
      "\n"
     ]
    }
   ],
   "source": [
    "categorical_columns = df.select_dtypes(include=['object', 'category']).columns\n",
    "\n",
    "for col in categorical_columns:\n",
    "    print(f\"Value counts for {col}:\")\n",
    "    print(df[col].value_counts())\n",
    "    print()"
   ]
  },
  {
   "cell_type": "markdown",
   "id": "8150d6be",
   "metadata": {},
   "source": [
    "Based on this result, yes, we can observe the following class imbalances in the dataset:\n",
    "Tumour_Stage has a slight imbalance.\n",
    "Patient_Status has a more notable imbalance, with \"Alive\" significantly outnumbering \"Dead.\"\n",
    "ER status and PR status do not exhibit imbalance, but they both consist of only one category, which makes them less informative for analysis or modeling.\n",
    "There is a large imbalance in the number of female vs. male patients. There are 330 females and only 4 males in the dataset. Normally, this would be concerning but in this type of data, breast cancer primarily affects women so it is okay in this case.\n",
    "The dataset shows more patients with Tumour Stage II, followed by Stage III, and fewer with Stage I. The distribution seems reasonable for this kind of dataset, but the imbalance between Stage I and the other stages might require attention in modeling if we're trying to predict something related to tumour stage."
   ]
  },
  {
   "cell_type": "markdown",
   "id": "abab9e6d-18cc-4863-b980-3e52f581763a",
   "metadata": {},
   "source": [
    "# 4. Storytelling With Data graph"
   ]
  },
  {
   "cell_type": "markdown",
   "id": "1911148d-9df6-4b33-a875-8c96408ec834",
   "metadata": {},
   "source": [
    "Just like last week: choose any graph in the Introduction of Storytelling With Data. Use matplotlib to reproduce it in a rough way. I don't expect you to spend an enormous amount of time on this; I understand that you likely will not have time to re-create every feature of the graph. However, if you're excited about learning to use matplotlib, this is a good way to do that. You don't have to duplicate the exact values on the graph; just the same rough shape will be enough.  If you don't feel comfortable using matplotlib yet, do the best you can and write down what you tried or what Google searches you did to find the answers."
   ]
  },
  {
   "cell_type": "code",
   "execution_count": 19,
   "id": "8b2888f9-3700-45ab-9829-6a5372106f9f",
   "metadata": {},
   "outputs": [
    {
     "data": {
      "image/png": "[encoded data removed]",
      "text/plain": [
       "<Figure size 1000x500 with 1 Axes>"
      ]
     },
     "metadata": {},
     "output_type": "display_data"
    }
   ],
   "source": [
    "import matplotlib.pyplot as plt\n",
    "\n",
    "months = [\"January\", \"February\", \"March\", \"April\", \"May\", \"June\", \"July\", \"August\", \n",
    "          \"September\", \"October\", \"November\", \"December\"]\n",
    "ticket_received = [160, 184, 241, 149, 180, 181, 150, 202, 156, 160, 139, 177]\n",
    "ticket_processed = [160, 184, 237, 148, 161, 161, 132, 123, 160, 126, 104, 40]\n",
    "\n",
    "x = np.arange(len(months))\n",
    "width = 0.4\n",
    "\n",
    "fig, ax = plt.subplots(figsize=(10, 5))\n",
    "\n",
    "ax.bar(x - width/2, ticket_received, width, label=\"Ticket Volume Received\", color='blue')\n",
    "ax.bar(x + width/2, ticket_processed, width, label=\"Ticket Volume Processed\", color='red')\n",
    "\n",
    "ax.set_xlabel(\"Months\")\n",
    "ax.set_ylabel(\"Ticket Volume\")\n",
    "ax.set_title(\"Ticket Trend\")\n",
    "ax.set_xticks(x)\n",
    "ax.set_xticklabels(months, rotation=45, ha=\"right\")\n",
    "ax.legend()\n",
    "\n",
    "plt.show()\n"
   ]
  }
 ],
 "metadata": {
  "kernelspec": {
   "display_name": "Python 3",
   "language": "python",
   "name": "python3"
  },
  "language_info": {
   "codemirror_mode": {
    "name": "ipython",
    "version": 3
   },
   "file_extension": ".py",
   "mimetype": "text/x-python",
   "name": "python",
   "nbconvert_exporter": "python",
   "pygments_lexer": "ipython3",
   "version": "3.12.1"
  }
 },
 "nbformat": 4,
 "nbformat_minor": 5
}
